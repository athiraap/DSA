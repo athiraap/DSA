{
  "nbformat": 4,
  "nbformat_minor": 0,
  "metadata": {
    "colab": {
      "provenance": []
    },
    "kernelspec": {
      "name": "python3",
      "display_name": "Python 3"
    },
    "language_info": {
      "name": "python"
    }
  },
  "cells": [
    {
      "cell_type": "code",
      "execution_count": 1,
      "metadata": {
        "colab": {
          "base_uri": "https://localhost:8080/"
        },
        "id": "yGSfDEQkSqVT",
        "outputId": "ae7a67eb-b1e5-40d6-9a0f-c6e22cfc927d"
      },
      "outputs": [
        {
          "output_type": "stream",
          "name": "stdout",
          "text": [
            "Enter the radius: 2\n",
            "Area of Circle is 12.566370614359172\n"
          ]
        }
      ],
      "source": [
        "import math\n",
        "\n",
        "# Get the radius from the user\n",
        "radius = float(input(\"Enter the radius: \"))\n",
        "\n",
        "# Calculate the area of the circle\n",
        "area = math.pi * (radius ** 2)\n",
        "\n",
        "# Print the result\n",
        "print(f\"Area of Circle is {area}\")"
      ]
    },
    {
      "cell_type": "code",
      "source": [
        "# Get details from the user\n",
        "name = input(\"Enter the name: \")\n",
        "roll_number = input(\"Enter the roll number: \")\n",
        "mark = input(\"Enter the mark: \")\n",
        "\n",
        "# Display the details\n",
        "print(f\"Name: {name}\")\n",
        "print(f\"Roll No: {roll_number}\")\n",
        "print(f\"Mark: {mark}\")"
      ],
      "metadata": {
        "colab": {
          "base_uri": "https://localhost:8080/"
        },
        "id": "LeUTXGdRUkN2",
        "outputId": "8182af07-f160-4404-a200-e31556007290"
      },
      "execution_count": 2,
      "outputs": [
        {
          "output_type": "stream",
          "name": "stdout",
          "text": [
            "Enter the name: ABC\n",
            "Enter the roll number: 2\n",
            "Enter the mark: 85\n",
            "Name: ABC\n",
            "Roll No: 2\n",
            "Mark: 85\n"
          ]
        }
      ]
    },
    {
      "cell_type": "code",
      "source": [
        "# Get a list of numbers from the user\n",
        "numbers = input(\"Enter numbers separated by commas: \").split(',')\n",
        "\n",
        "# Convert the input strings to integers\n",
        "numbers = [int(num) for num in numbers]\n",
        "\n",
        "# Find the largest number\n",
        "largest_number = max(numbers)\n",
        "\n",
        "# Display the result\n",
        "print(f\"{largest_number} is the largest number.\")\n"
      ],
      "metadata": {
        "colab": {
          "base_uri": "https://localhost:8080/"
        },
        "id": "C4qLlY0BU4QV",
        "outputId": "e2880697-cb07-40f1-9fba-e653b9abbfda"
      },
      "execution_count": 3,
      "outputs": [
        {
          "output_type": "stream",
          "name": "stdout",
          "text": [
            "Enter numbers separated by commas: 2,3,4\n",
            "4 is the largest number.\n"
          ]
        }
      ]
    },
    {
      "cell_type": "code",
      "source": [
        "# Iterate through the range of the first 10 numbers\n",
        "for current_number in range(1, 11):\n",
        "    # Calculate the previous number\n",
        "    previous_number = current_number - 1\n",
        "\n",
        "    # Print the result\n",
        "    print(f\"Current Number {current_number} Previous Number {previous_number} Sum: {current_number + previous_number}\")"
      ],
      "metadata": {
        "colab": {
          "base_uri": "https://localhost:8080/"
        },
        "id": "IhgzHnrjVF9E",
        "outputId": "bd6ffb09-abe2-4b3e-8f74-860c72215180"
      },
      "execution_count": 4,
      "outputs": [
        {
          "output_type": "stream",
          "name": "stdout",
          "text": [
            "Current Number 1 Previous Number 0 Sum: 1\n",
            "Current Number 2 Previous Number 1 Sum: 3\n",
            "Current Number 3 Previous Number 2 Sum: 5\n",
            "Current Number 4 Previous Number 3 Sum: 7\n",
            "Current Number 5 Previous Number 4 Sum: 9\n",
            "Current Number 6 Previous Number 5 Sum: 11\n",
            "Current Number 7 Previous Number 6 Sum: 13\n",
            "Current Number 8 Previous Number 7 Sum: 15\n",
            "Current Number 9 Previous Number 8 Sum: 17\n",
            "Current Number 10 Previous Number 9 Sum: 19\n"
          ]
        }
      ]
    },
    {
      "cell_type": "code",
      "source": [
        "# Get a list of numbers from the user\n",
        "numbers = input(\"Enter numbers separated by commas: \").split(',')\n",
        "\n",
        "# Convert the input strings to integers\n",
        "numbers = [int(num) for num in numbers]\n",
        "\n",
        "# Filter and print numbers divisible by 5\n",
        "result = [num for num in numbers if num % 5 == 0]\n",
        "print(\", \".join(map(str, result)))\n"
      ],
      "metadata": {
        "colab": {
          "base_uri": "https://localhost:8080/"
        },
        "id": "hgQV0BoJVYak",
        "outputId": "01e7e2ba-0391-4b70-cfc9-bbf21bfae11f"
      },
      "execution_count": 5,
      "outputs": [
        {
          "output_type": "stream",
          "name": "stdout",
          "text": [
            "Enter numbers separated by commas: 5,6,7,8,9\n",
            "5\n"
          ]
        }
      ]
    },
    {
      "cell_type": "code",
      "source": [
        "# Get the number from the user\n",
        "number = int(input(\"Enter the number: \"))\n",
        "\n",
        "# Check if the number is prime\n",
        "is_prime = True\n",
        "if number < 2:\n",
        "    is_prime = False\n",
        "else:\n",
        "    for i in range(2, int(number**0.5) + 1):\n",
        "        if number % i == 0:\n",
        "            is_prime = False\n",
        "            break\n",
        "\n",
        "# Display the result\n",
        "if is_prime:\n",
        "    print(f\"{number} is a prime number.\")\n",
        "else:\n",
        "    print(f\"{number} is not a prime number.\")"
      ],
      "metadata": {
        "colab": {
          "base_uri": "https://localhost:8080/"
        },
        "id": "I3R2KKxuVpa2",
        "outputId": "4298d3f4-b9fc-4309-b214-88201bbdbb4f"
      },
      "execution_count": 6,
      "outputs": [
        {
          "output_type": "stream",
          "name": "stdout",
          "text": [
            "Enter the number: 5\n",
            "5 is a prime number.\n"
          ]
        }
      ]
    },
    {
      "cell_type": "code",
      "source": [
        "# Get a list of numbers from the user\n",
        "numbers = input(\"Enter numbers separated by commas: \").split(',')\n",
        "\n",
        "# Convert the input strings to integers\n",
        "numbers = [int(num) for num in numbers]\n",
        "\n",
        "# Reverse the list using a for loop\n",
        "reversed_list = []\n",
        "for i in range(len(numbers) - 1, -1, -1):\n",
        "    reversed_list.append(numbers[i])\n",
        "\n",
        "# Display the reversed list\n",
        "print(\", \".join(map(str, reversed_list)))\n"
      ],
      "metadata": {
        "colab": {
          "base_uri": "https://localhost:8080/"
        },
        "id": "cJkL59dnVyYq",
        "outputId": "bcc9df48-e2e7-431b-b844-a49d17760b6e"
      },
      "execution_count": 7,
      "outputs": [
        {
          "output_type": "stream",
          "name": "stdout",
          "text": [
            "Enter numbers separated by commas: 1,2,3,4\n",
            "4, 3, 2, 1\n"
          ]
        }
      ]
    },
    {
      "cell_type": "code",
      "source": [
        "# Set the number of rows\n",
        "rows = 4\n",
        "\n",
        "# Nested loop to print the pattern\n",
        "for i in range(1, rows + 1):\n",
        "    for j in range(1, i + 1):\n",
        "        print(\"*\", end=\"\")\n",
        "    print()\n"
      ],
      "metadata": {
        "colab": {
          "base_uri": "https://localhost:8080/"
        },
        "id": "Wps8cLncWZuL",
        "outputId": "ddf0ff13-6240-408d-99d3-2fae73da2773"
      },
      "execution_count": 8,
      "outputs": [
        {
          "output_type": "stream",
          "name": "stdout",
          "text": [
            "*\n",
            "**\n",
            "***\n",
            "****\n"
          ]
        }
      ]
    },
    {
      "cell_type": "code",
      "source": [
        "# Get three numbers from the user\n",
        "num1 = float(input(\"Enter the first number: \"))\n",
        "num2 = float(input(\"Enter the second number: \"))\n",
        "num3 = float(input(\"Enter the third number: \"))\n",
        "\n",
        "# Find the maximum of the three numbers\n",
        "max_number = max(num1, num2, num3)\n",
        "\n",
        "# Display the result\n",
        "print(f\"The maximum of {num1}, {num2}, and {num3} is: {max_number}\")\n"
      ],
      "metadata": {
        "colab": {
          "base_uri": "https://localhost:8080/"
        },
        "id": "MfrUmUgIWwXG",
        "outputId": "2c4c7755-a9d3-429e-b523-9e748f3ffea1"
      },
      "execution_count": 9,
      "outputs": [
        {
          "output_type": "stream",
          "name": "stdout",
          "text": [
            "Enter the first number: 2\n",
            "Enter the second number: 3\n",
            "Enter the third number: 4\n",
            "The maximum of 2.0, 3.0, and 4.0 is: 4.0\n"
          ]
        }
      ]
    },
    {
      "cell_type": "code",
      "source": [
        "# Set the number of rows\n",
        "rows = 5\n",
        "\n",
        "# Upper part of the pattern\n",
        "for i in range(1, rows + 1):\n",
        "    for j in range(1, i + 1):\n",
        "        print(\"*\", end=\"\")\n",
        "    print()\n",
        "\n",
        "# Lower part of the pattern\n",
        "for i in range(rows - 1, 0, -1):\n",
        "    for j in range(1, i + 1):\n",
        "        print(\"*\", end=\"\")\n",
        "    print()\n"
      ],
      "metadata": {
        "colab": {
          "base_uri": "https://localhost:8080/"
        },
        "id": "Dm2eosJjW5Qn",
        "outputId": "bcf239c4-1739-4acf-ac75-7fe5d58833f4"
      },
      "execution_count": 10,
      "outputs": [
        {
          "output_type": "stream",
          "name": "stdout",
          "text": [
            "*\n",
            "**\n",
            "***\n",
            "****\n",
            "*****\n",
            "****\n",
            "***\n",
            "**\n",
            "*\n"
          ]
        }
      ]
    }
  ]
}